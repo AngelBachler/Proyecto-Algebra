{
 "cells": [
  {
   "cell_type": "markdown",
   "id": "4be1d085",
   "metadata": {},
   "source": [
    "## Importamos la clase Vec"
   ]
  },
  {
   "cell_type": "code",
   "execution_count": 1,
   "id": "abac4809",
   "metadata": {},
   "outputs": [],
   "source": [
    "from vec import Vec"
   ]
  },
  {
   "cell_type": "code",
   "execution_count": 2,
   "id": "bf336968",
   "metadata": {},
   "outputs": [],
   "source": [
    "#crear un diccionario para cada archivo csv\n",
    "id_movies = {(i.strip().split(','))[0] for i in list(open('movies.csv'))}\n",
    "id_user = {(i.strip().split(','))[0] for i in list(open('ratings.csv'))}\n",
    "id_user.remove('user_id')\n",
    "users = {}\n",
    "\n",
    "#ciclo que da vueltas para ir guardando el id del usuario y los rating de las peliculas \n",
    "#en la clase vector\n",
    "for i in id_user:\n",
    "    dic = {}\n",
    "    archivo = open('ratings.csv', 'r')\n",
    "    archivo = archivo.readlines()\n",
    "    \n",
    "    for x in archivo:\n",
    "        x = x.strip('\\n')\n",
    "        x = x.split(',')\n",
    "        if x[0] == i:\n",
    "            dic[x[1]] = int(x[2]) \n",
    "    users[i] = Vec(id_movies,dic)"
   ]
  },
  {
   "cell_type": "code",
   "execution_count": 3,
   "id": "e51d8d2f",
   "metadata": {},
   "outputs": [
    {
     "data": {
      "text/plain": [
       "5"
      ]
     },
     "execution_count": 3,
     "metadata": {},
     "output_type": "execute_result"
    }
   ],
   "source": [
    "#probamos que el diccionario funcione buscando el rating de la pelicula de id 2 del usuario de id 943\n",
    "#este resultando ser 5\n",
    "users['943']['2']"
   ]
  },
  {
   "cell_type": "code",
   "execution_count": 4,
   "id": "c27f56d0",
   "metadata": {},
   "outputs": [],
   "source": [
    "id_movies.remove('movie_id')\n",
    "movies = {}\n",
    "\n",
    "#ciclo que recorre todas las peliculas y las va guardando en la clase vector\n",
    "#con sus respectivos rating de cada usuario\n",
    "for i in id_movies:\n",
    "    dic = {}\n",
    "    archivo = open('ratings.csv', 'r')\n",
    "    archivo = archivo.readlines()\n",
    "    \n",
    "    for x in archivo:\n",
    "        x = x.strip('\\n')\n",
    "        x = x.split(',')\n",
    "        if x[1] == i:\n",
    "            dic[x[0]] = int(x[2]) \n",
    "    movies[i] = Vec(id_user,dic)"
   ]
  },
  {
   "cell_type": "code",
   "execution_count": 36,
   "id": "083b7a30",
   "metadata": {},
   "outputs": [
    {
     "data": {
      "text/plain": [
       "5"
      ]
     },
     "execution_count": 36,
     "metadata": {},
     "output_type": "execute_result"
    }
   ],
   "source": [
    "#probamos que funcione el diccionario de las peliculas buscando la pelicula de id 922 y el rating \n",
    "#que le dio el usuario de id 883 que en este caso es 5\n",
    "movies['922']['883']\n"
   ]
  },
  {
   "cell_type": "markdown",
   "id": "505b1ba0",
   "metadata": {},
   "source": [
    "## Código pregunta c)"
   ]
  },
  {
   "cell_type": "code",
   "execution_count": 37,
   "id": "4cbcd50b",
   "metadata": {},
   "outputs": [],
   "source": [
    "# Creamos una función para encontrar la similaridad entre los usuarios\n",
    "\n",
    "def vecinos(users, user_id, k):\n",
    "    \n",
    "    user_principal = users[str(user_id)]\n",
    "    \n",
    "    #Creamos dos listas, una para los usuarios que queremos comparar con el user_principal y otra con la similitud. \n",
    "    #Para las dos listas cada índice corresponde al mismo usuario, por ejemplo para un número x lista_usuarios[x] \n",
    "    #es el usuario y lista_similitudes[x] corresponde a su similitud con el user_principal.\n",
    "    \n",
    "    lista_usuarios = []\n",
    "    lista_similitudes = []\n",
    "    \n",
    "    for x in users:\n",
    "        \n",
    "        #Este if es para evitar calcular la similitud del user_principal consigo mismo\n",
    "        \n",
    "        if users[str(x)] != user_principal:\n",
    "            \n",
    "            #Estas son las operaciones para calcular la similitud\n",
    "            \n",
    "            raiz_1 = (users[str(x)] * users[str(x)])**(1/2)\n",
    "            raiz_2 = (user_principal * user_principal)**(1/2)\n",
    "                        \n",
    "            # Hacemos append a ambas listas con sus respectivos contenidos\n",
    "            \n",
    "            lista_similitudes.append((user_principal * users[str(x)])/(raiz_1*raiz_2))\n",
    "            lista_usuarios.append(str(x))\n",
    "            \n",
    "    # Esta es la lista que contendrá las tuplas \n",
    "    lista_final = []\n",
    "    \n",
    "    \n",
    "    for x in range(len(lista_usuarios)):\n",
    "        \n",
    "        #Creamos las tuplas con su respectivo usuario y similitud\n",
    "        \n",
    "        lista = []\n",
    "        lista.append(lista_usuarios[x])\n",
    "        lista.append(lista_similitudes[x])\n",
    "        lista = tuple(lista)\n",
    "        lista_final.append(lista)\n",
    "    \n",
    "    #Ordenamos la lista final para obtener los usuarios con mayor similitud al user_principal\n",
    "    lista_final = sorted(lista_final, key = lambda x: x[1], reverse=True)\n",
    "    \n",
    "    lista_final_final = []\n",
    "    \n",
    "    #Tomamos los k usuarios de la lista_final\n",
    "    \n",
    "    for x in range(k):\n",
    "        \n",
    "        \n",
    "        lista_final_final.append(lista_final[x])\n",
    "        \n",
    "    return lista_final_final\n",
    "    "
   ]
  },
  {
   "cell_type": "markdown",
   "id": "d886912c",
   "metadata": {},
   "source": [
    "### Este es un ejemplo para probar la función"
   ]
  },
  {
   "cell_type": "code",
   "execution_count": 38,
   "id": "843dcd84",
   "metadata": {
    "scrolled": true
   },
   "outputs": [
    {
     "data": {
      "text/plain": [
       "[('823', 0.48649820384918496),\n",
       " ('864', 0.4834252361218437),\n",
       " ('916', 0.45534171088502),\n",
       " ('664', 0.44806881497240225),\n",
       " ('933', 0.44053112736963473)]"
      ]
     },
     "execution_count": 38,
     "metadata": {},
     "output_type": "execute_result"
    }
   ],
   "source": [
    "vecinos(users, 343, 5)"
   ]
  },
  {
   "cell_type": "markdown",
   "id": "6dd8e224",
   "metadata": {},
   "source": [
    "## Pregunta d)"
   ]
  },
  {
   "cell_type": "code",
   "execution_count": 39,
   "id": "7514e64e",
   "metadata": {},
   "outputs": [],
   "source": [
    "def rating_user_100(users, user_id, k):\n",
    "    \n",
    "    #Usamos la función vecinos para encontrar los k usuarios con mayor similitud al usuario que nos piden(que en este caso va a ser el usuario 100).\n",
    "    \n",
    "    lista_usuarios_cercanos = vecinos(users, user_id, k)\n",
    "    \n",
    "    #Luego verificamos los usuarios que hayan visto la película \"286\".\n",
    "    #Para ello creamos una lista en la que los agregaremos.\n",
    "    \n",
    "    usuarios_con_rating = []\n",
    "    \n",
    "    for x in lista_usuarios_cercanos:\n",
    "        \n",
    "        #Aquí verificamos que la hayan visto\n",
    "        \n",
    "        if users[x[0]]['286'] != 0:\n",
    "            \n",
    "            usuarios_con_rating.append(x[0])\n",
    "    \n",
    "    # Retornamos la lista\n",
    "    return usuarios_con_rating\n",
    "    "
   ]
  },
  {
   "cell_type": "code",
   "execution_count": 40,
   "id": "a5449a3b",
   "metadata": {},
   "outputs": [
    {
     "name": "stdout",
     "output_type": "stream",
     "text": [
      "12\n"
     ]
    },
    {
     "data": {
      "text/plain": [
       "3.8333333333333335"
      ]
     },
     "execution_count": 40,
     "metadata": {},
     "output_type": "execute_result"
    }
   ],
   "source": [
    "print(len(rating_user_100(users, 100, 15)))\n",
    "\n",
    "#Para sacar el promedio creamos una variable a la cual le vamos sumando todos\n",
    "#los puntajes que le dieron a la película los usuarios de la lista.\n",
    "\n",
    "promedio = 0\n",
    "\n",
    "for x in rating_user_100(users, 100, 15):\n",
    "    \n",
    "    promedio += int(users[x]['286'])\n",
    "\n",
    "#Calculamos el promedio\n",
    "\n",
    "promedio = (promedio/len(rating_user_100(users, 100, 15)))\n",
    "promedio"
   ]
  },
  {
   "cell_type": "markdown",
   "id": "f0d0a799",
   "metadata": {},
   "source": [
    "## Código pregunta e)"
   ]
  },
  {
   "cell_type": "code",
   "execution_count": 41,
   "id": "411ba0e7",
   "metadata": {
    "scrolled": false
   },
   "outputs": [
    {
     "data": {
      "text/plain": [
       "['Contact (1997)',\n",
       " 'Full Monty, The (1997)',\n",
       " 'English Patient, The (1996)',\n",
       " 'Scream (1996)',\n",
       " 'Liar Liar (1997)',\n",
       " 'Air Force One (1997)',\n",
       " 'Titanic (1997)',\n",
       " 'Conspiracy Theory (1997)',\n",
       " 'Saint, The (1997)',\n",
       " 'Scream 2 (1997)']"
      ]
     },
     "execution_count": 41,
     "metadata": {},
     "output_type": "execute_result"
    }
   ],
   "source": [
    "#Creamos una variable e, que contenga una lista con los 30 usuarios con mayor similaridad al usuario \"400\".\n",
    "\n",
    "e = vecinos(users, 400, 30)\n",
    "\n",
    "#Además creamos una variable combinacion_convexa que contenga el vector promedio resultante de la combinación convexa \n",
    "#entre los vectores de cada usuario de la lista \"e\".\n",
    "\n",
    "combinacion_convexa = 0\n",
    "\n",
    "for x in e:\n",
    "    \n",
    "    combinacion_convexa += users[x[0]]\n",
    "    \n",
    "combinacion_convexa = combinacion_convexa/30\n",
    "\n",
    "#Creamos una lista que contenga los ratings promedios de cada película en orden decreciente.\n",
    "\n",
    "lista_ratings = sorted(combinacion_convexa.f, key = lambda x:combinacion_convexa[x], reverse=True)\n",
    "\n",
    "#Obtenemos los id de las 10 películas con mayor rating.\n",
    "\n",
    "id_peliculas = []\n",
    "\n",
    "for x in range(10):\n",
    "    \n",
    "    id_peliculas.append(lista_ratings[x])\n",
    "    \n",
    "id_peliculas\n",
    "\n",
    "#Abrimos el archivo 'movies.csv' para obtener los nombres de las películas.\n",
    "\n",
    "archivo = open('movies.csv', 'r')\n",
    "\n",
    "nombres_peliculas = []\n",
    "\n",
    "#Nos dimos cuenta que había algunas películas que tenían una coma en su nombre, \n",
    "#por lo que dependiendo de si la tenían o no, le haciamos un split() diferente.\n",
    "\n",
    "\n",
    "for x in archivo:\n",
    "    \n",
    "    z = x.split(',')\n",
    "    \n",
    "    if z[0] in id_peliculas:\n",
    "        \n",
    "        if '\"' in x:\n",
    "            \n",
    "            z = x.split('\"')\n",
    "            \n",
    "            nombres_peliculas.append(z[1])\n",
    "            \n",
    "        else: \n",
    "            \n",
    "            nombres_peliculas.append(z[1].strip('\\n'))\n",
    "\n",
    "#Cerramos el archivo y hacemos print a las 10 películas.\n",
    "            \n",
    "#archivo.close()\n",
    "\n",
    "nombres_peliculas"
   ]
  }
 ],
 "metadata": {
  "kernelspec": {
   "display_name": "Python 3",
   "language": "python",
   "name": "python3"
  },
  "language_info": {
   "codemirror_mode": {
    "name": "ipython",
    "version": 3
   },
   "file_extension": ".py",
   "mimetype": "text/x-python",
   "name": "python",
   "nbconvert_exporter": "python",
   "pygments_lexer": "ipython3",
   "version": "3.7.11"
  }
 },
 "nbformat": 4,
 "nbformat_minor": 5
}
