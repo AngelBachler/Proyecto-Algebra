{
 "cells": [
  {
   "cell_type": "code",
   "execution_count": 54,
   "id": "44bb2f99",
   "metadata": {},
   "outputs": [],
   "source": [
    "from vec import Vec"
   ]
  },
  {
   "cell_type": "code",
   "execution_count": 55,
   "id": "bf336968",
   "metadata": {},
   "outputs": [],
   "source": [
    "id_movies = {(i.strip().split(','))[0] for i in list(open('movies.csv'))}\n",
    "id_user = {(i.strip().split(','))[0] for i in list(open('ratings.csv'))}\n",
    "id_user.remove('user_id')\n",
    "users = {}\n",
    "\n",
    "for i in id_user:\n",
    "    dic = {}\n",
    "    archivo = open('ratings.csv', 'r')\n",
    "    archivo = archivo.readlines()\n",
    "    \n",
    "    for x in archivo:\n",
    "        x = x.strip('\\n')\n",
    "        x = x.split(',')\n",
    "        if x[0] == i:\n",
    "            dic[x[1]] = int(x[2]) \n",
    "    users[i] = Vec(id_movies,dic)"
   ]
  },
  {
   "cell_type": "code",
   "execution_count": 56,
   "id": "e51d8d2f",
   "metadata": {},
   "outputs": [
    {
     "data": {
      "text/plain": [
       "5"
      ]
     },
     "execution_count": 56,
     "metadata": {},
     "output_type": "execute_result"
    }
   ],
   "source": [
    "users['943']['2']\n"
   ]
  },
  {
   "cell_type": "code",
   "execution_count": 57,
   "id": "c27f56d0",
   "metadata": {},
   "outputs": [],
   "source": [
    "id_movies.remove('movie_id')\n",
    "movies = {}\n",
    "\n",
    "for i in id_movies:\n",
    "    dic = {}\n",
    "    archivo = open('ratings.csv', 'r')\n",
    "    archivo = archivo.readlines()\n",
    "    \n",
    "    for x in archivo:\n",
    "        x = x.strip('\\n')\n",
    "        x = x.split(',')\n",
    "        if x[1] == i:\n",
    "            dic[x[0]] = int(x[2]) \n",
    "    movies[i] = Vec(id_user,dic)"
   ]
  },
  {
   "cell_type": "code",
   "execution_count": 58,
   "id": "4d765e2d",
   "metadata": {},
   "outputs": [
    {
     "data": {
      "text/plain": [
       "0"
      ]
     },
     "execution_count": 58,
     "metadata": {},
     "output_type": "execute_result"
    }
   ],
   "source": [
    "movies['1']['1']"
   ]
  },
  {
   "cell_type": "code",
   "execution_count": null,
   "id": "4cbcd50b",
   "metadata": {},
   "outputs": [],
   "source": []
  },
  {
   "cell_type": "code",
   "execution_count": null,
   "id": "843dcd84",
   "metadata": {},
   "outputs": [],
   "source": []
  }
 ],
 "metadata": {
  "kernelspec": {
   "display_name": "Python 3",
   "language": "python",
   "name": "python3"
  },
  "language_info": {
   "codemirror_mode": {
    "name": "ipython",
    "version": 3
   },
   "file_extension": ".py",
   "mimetype": "text/x-python",
   "name": "python",
   "nbconvert_exporter": "python",
   "pygments_lexer": "ipython3",
   "version": "3.7.11"
  }
 },
 "nbformat": 4,
 "nbformat_minor": 5
}
