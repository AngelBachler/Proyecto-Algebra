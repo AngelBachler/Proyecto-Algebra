{
 "cells": [
  {
   "cell_type": "code",
   "execution_count": 1,
   "id": "44bb2f99",
   "metadata": {},
   "outputs": [],
   "source": [
    "from vec import Vec\n",
    "import math"
   ]
  },
  {
   "cell_type": "code",
   "execution_count": 2,
   "id": "bf336968",
   "metadata": {},
   "outputs": [],
   "source": [
    "id_movies = {(i.strip().split(','))[0] for i in list(open('movies.csv'))}\n",
    "id_user = {(i.strip().split(','))[0] for i in list(open('ratings.csv'))}\n",
    "id_user.remove('user_id')\n",
    "users = {}\n",
    "\n",
    "for i in id_user:\n",
    "    dic = {}\n",
    "    archivo = open('ratings.csv', 'r')\n",
    "    archivo = archivo.readlines()\n",
    "    \n",
    "    for x in archivo:\n",
    "        x = x.strip('\\n')\n",
    "        x = x.split(',')\n",
    "        if x[0] == i:\n",
    "            dic[x[1]] = int(x[2]) \n",
    "    users[i] = Vec(id_movies,dic)"
   ]
  },
  {
   "cell_type": "code",
   "execution_count": 3,
   "id": "e51d8d2f",
   "metadata": {},
   "outputs": [
    {
     "data": {
      "text/plain": [
       "5"
      ]
     },
     "execution_count": 3,
     "metadata": {},
     "output_type": "execute_result"
    }
   ],
   "source": [
    "users['943']['2']\n"
   ]
  },
  {
   "cell_type": "code",
   "execution_count": 4,
   "id": "c27f56d0",
   "metadata": {},
   "outputs": [],
   "source": [
    "id_movies.remove('movie_id')\n",
    "movies = {}\n",
    "\n",
    "for i in id_movies:\n",
    "    dic = {}\n",
    "    archivo = open('ratings.csv', 'r')\n",
    "    archivo = archivo.readlines()\n",
    "    \n",
    "    for x in archivo:\n",
    "        x = x.strip('\\n')\n",
    "        x = x.split(',')\n",
    "        if x[1] == i:\n",
    "            dic[x[0]] = int(x[2]) \n",
    "    movies[i] = Vec(id_user,dic)"
   ]
  },
  {
   "cell_type": "code",
   "execution_count": 5,
   "id": "4d765e2d",
   "metadata": {},
   "outputs": [
    {
     "data": {
      "text/plain": [
       "0"
      ]
     },
     "execution_count": 5,
     "metadata": {},
     "output_type": "execute_result"
    }
   ],
   "source": [
    "movies['1']['1']"
   ]
  },
  {
   "cell_type": "code",
   "execution_count": 6,
   "id": "4cbcd50b",
   "metadata": {},
   "outputs": [],
   "source": [
    "def vecinos(users, user_id, k):\n",
    "    \n",
    "    user_principal = users[str(user_id)]\n",
    "    \n",
    "    lista_usuarios = []\n",
    "    lista_similitudes = []\n",
    "    \n",
    "    for x in users:\n",
    "        \n",
    "        if users[str(x)] != user_principal:\n",
    "            \n",
    "            raiz_1 = math.sqrt(users[str(x)] * users[str(x)])\n",
    "            raiz_2 = math.sqrt(user_principal * user_principal)\n",
    "            \n",
    "            lista_similitudes.append((user_principal * users[str(x)])/(raiz_1*raiz_2))\n",
    "            lista_usuarios.append(str(x))\n",
    "            \n",
    "    lista_final = []\n",
    "    \n",
    "    \n",
    "    for x in range(len(lista_usuarios)):\n",
    "        \n",
    "        lista = []\n",
    "        lista.append(lista_usuarios[x])\n",
    "        lista.append(lista_similitudes[x])\n",
    "        lista = tuple(lista)\n",
    "        lista_final.append(lista)\n",
    "        \n",
    "    lista_final = sorted(lista_final, key = lambda x: x[1], reverse=True)\n",
    "    \n",
    "    lista_final_final = []\n",
    "    \n",
    "    for x in range(k):\n",
    "        \n",
    "        \n",
    "        lista_final_final.append(lista_final[x])\n",
    "        \n",
    "    return lista_final_final\n",
    "    "
   ]
  },
  {
   "cell_type": "code",
   "execution_count": 7,
   "id": "843dcd84",
   "metadata": {},
   "outputs": [
    {
     "data": {
      "text/plain": [
       "[('823', 0.48649820384918496),\n",
       " ('864', 0.4834252361218437),\n",
       " ('916', 0.45534171088502),\n",
       " ('664', 0.44806881497240225),\n",
       " ('933', 0.44053112736963473)]"
      ]
     },
     "execution_count": 7,
     "metadata": {},
     "output_type": "execute_result"
    }
   ],
   "source": [
    "vecinos(users, 343, 5)"
   ]
  },
  {
   "cell_type": "code",
   "execution_count": 8,
   "id": "7514e64e",
   "metadata": {},
   "outputs": [],
   "source": [
    "def rating_user_100(users, user_id, k):\n",
    "    \n",
    "    lista_usuarios_cercanos = vecinos(users, user_id, k)\n",
    "    usuarios_con_rating = []\n",
    "    \n",
    "    for x in lista_usuarios_cercanos:\n",
    "        \n",
    "        if users[x[0]]['286'] != 0:\n",
    "            \n",
    "            usuarios_con_rating.append(x[0])\n",
    "            \n",
    "    return usuarios_con_rating\n",
    "    "
   ]
  },
  {
   "cell_type": "code",
   "execution_count": 12,
   "id": "a5449a3b",
   "metadata": {},
   "outputs": [
    {
     "name": "stdout",
     "output_type": "stream",
     "text": [
      "5\n"
     ]
    },
    {
     "data": {
      "text/plain": [
       "3.6"
      ]
     },
     "execution_count": 12,
     "metadata": {},
     "output_type": "execute_result"
    }
   ],
   "source": [
    "print(len(rating_user_100(users, 100, 15)))\n",
    "\n",
    "promedio = 0\n",
    "\n",
    "for x in rating_user_100(users, 100, 15):\n",
    "    \n",
    "    promedio += int(users[x]['286'])\n",
    "    \n",
    "promedio = (promedio/len(rating_user_100(users, 100, 15)))\n",
    "promedio"
   ]
  },
  {
   "cell_type": "code",
   "execution_count": 69,
   "id": "411ba0e7",
   "metadata": {
    "scrolled": false
   },
   "outputs": [
    {
     "data": {
      "text/plain": [
       "['Contact (1997)',\n",
       " 'Full Monty, The (1997)',\n",
       " 'English Patient, The (1996)',\n",
       " 'Scream (1996)',\n",
       " 'Liar Liar (1997)',\n",
       " 'Air Force One (1997)',\n",
       " 'Titanic (1997)',\n",
       " 'Conspiracy Theory (1997)',\n",
       " 'Saint, The (1997)',\n",
       " 'Scream 2 (1997)']"
      ]
     },
     "execution_count": 69,
     "metadata": {},
     "output_type": "execute_result"
    }
   ],
   "source": [
    "e = vecinos(users, 400, 30)\n",
    "\n",
    "combinacion_convexa = 0\n",
    "\n",
    "for x in e:\n",
    "    \n",
    "    combinacion_convexa += users[x[0]]\n",
    "    \n",
    "combinacion_convexa = combinacion_convexa/30\n",
    "\n",
    "lista_ratings = sorted(combinacion_convexa.f, key = lambda x:combinacion_convexa[x], reverse=True)\n",
    "\n",
    "id_peliculas = []\n",
    "\n",
    "for x in range(10):\n",
    "    \n",
    "    id_peliculas.append(lista_ratings[x])\n",
    "    \n",
    "id_peliculas\n",
    "\n",
    "archivo = open('movies.csv', 'r')\n",
    "\n",
    "nombres_peliculas = []\n",
    "\n",
    "for x in archivo:\n",
    "    \n",
    "    z = x.split(',')\n",
    "    \n",
    "    if z[0] in id_peliculas:\n",
    "        \n",
    "        if '\"' in x:\n",
    "            \n",
    "            z = x.split('\"')\n",
    "            \n",
    "            nombres_peliculas.append(z[1])\n",
    "            \n",
    "        else: \n",
    "            \n",
    "            nombres_peliculas.append(z[1].strip('\\n'))\n",
    "        \n",
    "nombres_peliculas"
   ]
  },
  {
   "cell_type": "code",
   "execution_count": null,
   "id": "38992d4f",
   "metadata": {},
   "outputs": [],
   "source": []
  }
 ],
 "metadata": {
  "kernelspec": {
   "display_name": "Python 3 (ipykernel)",
   "language": "python",
   "name": "python3"
  },
  "language_info": {
   "codemirror_mode": {
    "name": "ipython",
    "version": 3
   },
   "file_extension": ".py",
   "mimetype": "text/x-python",
   "name": "python",
   "nbconvert_exporter": "python",
   "pygments_lexer": "ipython3",
   "version": "3.9.6"
  }
 },
 "nbformat": 4,
 "nbformat_minor": 5
}
